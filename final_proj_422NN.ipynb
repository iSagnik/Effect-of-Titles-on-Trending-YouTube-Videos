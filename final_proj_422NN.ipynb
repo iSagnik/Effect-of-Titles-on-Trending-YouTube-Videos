{
 "cells": [
  {
   "cell_type": "code",
   "execution_count": 340,
   "metadata": {
    "id": "x0TzqYr8RxbQ"
   },
   "outputs": [
    {
     "name": "stdout",
     "output_type": "stream",
     "text": [
      "The tensorboard extension is already loaded. To reload it, use:\n",
      "  %reload_ext tensorboard\n"
     ]
    }
   ],
   "source": [
    "import pandas as pd\n",
    "import tensorflow as tf\n",
    "from tensorflow import keras\n",
    "from tensorflow.keras import layers\n",
    "import numpy as np\n",
    "import matplotlib.pyplot as plt\n",
    "import datetime\n",
    "%load_ext tensorboard"
   ]
  },
  {
   "cell_type": "code",
   "execution_count": 341,
   "metadata": {
    "id": "u5XnkD3NcuCI"
   },
   "outputs": [],
   "source": [
    "## LOAD THIS DATA (sitll tanh normalized)\n",
    "df = pd.read_csv(\"final_video_data_normalized.csv\")"
   ]
  },
  {
   "cell_type": "code",
   "execution_count": 342,
   "metadata": {
    "id": "VYkxnQWcR2y9"
   },
   "outputs": [],
   "source": [
    "## Drop so keras doesn't try to use the title as a feature\n",
    "df = df.drop(columns=['title'])\n"
   ]
  },
  {
   "cell_type": "code",
   "execution_count": 343,
   "metadata": {
    "id": "CNu7eA_9X_Wp"
   },
   "outputs": [],
   "source": [
    "from sklearn.model_selection import train_test_split\n",
    "train, test = train_test_split(df, test_size=0.2)"
   ]
  },
  {
   "cell_type": "code",
   "execution_count": 344,
   "metadata": {
    "colab": {
     "base_uri": "https://localhost:8080/",
     "height": 215
    },
    "id": "eRKtXsGqY4l6",
    "outputId": "7d7a412f-32f8-4156-c955-85ab91c092d4"
   },
   "outputs": [
    {
     "data": {
      "text/html": [
       "<div>\n",
       "<style scoped>\n",
       "    .dataframe tbody tr th:only-of-type {\n",
       "        vertical-align: middle;\n",
       "    }\n",
       "\n",
       "    .dataframe tbody tr th {\n",
       "        vertical-align: top;\n",
       "    }\n",
       "\n",
       "    .dataframe thead th {\n",
       "        text-align: right;\n",
       "    }\n",
       "</style>\n",
       "<table border=\"1\" class=\"dataframe\">\n",
       "  <thead>\n",
       "    <tr style=\"text-align: right;\">\n",
       "      <th></th>\n",
       "      <th>view_count</th>\n",
       "      <th>percent_capital</th>\n",
       "      <th>title_length</th>\n",
       "      <th>contains_question_mark</th>\n",
       "      <th>contains_exclamation_mark</th>\n",
       "      <th>VADER</th>\n",
       "      <th>has_full_cap_word</th>\n",
       "      <th>full_cap_count</th>\n",
       "      <th>trending</th>\n",
       "    </tr>\n",
       "  </thead>\n",
       "  <tbody>\n",
       "    <tr>\n",
       "      <td>3382</td>\n",
       "      <td>309045</td>\n",
       "      <td>0.142857</td>\n",
       "      <td>0.494442</td>\n",
       "      <td>False</td>\n",
       "      <td>False</td>\n",
       "      <td>0.507467</td>\n",
       "      <td>False</td>\n",
       "      <td>0.496823</td>\n",
       "      <td>True</td>\n",
       "    </tr>\n",
       "    <tr>\n",
       "      <td>5646</td>\n",
       "      <td>21</td>\n",
       "      <td>0.708861</td>\n",
       "      <td>0.506825</td>\n",
       "      <td>False</td>\n",
       "      <td>False</td>\n",
       "      <td>0.499709</td>\n",
       "      <td>True</td>\n",
       "      <td>0.531282</td>\n",
       "      <td>False</td>\n",
       "    </tr>\n",
       "    <tr>\n",
       "      <td>20156</td>\n",
       "      <td>34</td>\n",
       "      <td>0.000000</td>\n",
       "      <td>0.491286</td>\n",
       "      <td>False</td>\n",
       "      <td>False</td>\n",
       "      <td>0.499709</td>\n",
       "      <td>False</td>\n",
       "      <td>0.496823</td>\n",
       "      <td>False</td>\n",
       "    </tr>\n",
       "    <tr>\n",
       "      <td>17</td>\n",
       "      <td>410704</td>\n",
       "      <td>0.119403</td>\n",
       "      <td>0.503912</td>\n",
       "      <td>False</td>\n",
       "      <td>False</td>\n",
       "      <td>0.503264</td>\n",
       "      <td>False</td>\n",
       "      <td>0.496823</td>\n",
       "      <td>True</td>\n",
       "    </tr>\n",
       "    <tr>\n",
       "      <td>3579</td>\n",
       "      <td>53233</td>\n",
       "      <td>0.156250</td>\n",
       "      <td>0.495413</td>\n",
       "      <td>False</td>\n",
       "      <td>False</td>\n",
       "      <td>0.499709</td>\n",
       "      <td>True</td>\n",
       "      <td>0.499287</td>\n",
       "      <td>False</td>\n",
       "    </tr>\n",
       "  </tbody>\n",
       "</table>\n",
       "</div>"
      ],
      "text/plain": [
       "       view_count  percent_capital  title_length  contains_question_mark  \\\n",
       "3382       309045         0.142857      0.494442                   False   \n",
       "5646           21         0.708861      0.506825                   False   \n",
       "20156          34         0.000000      0.491286                   False   \n",
       "17         410704         0.119403      0.503912                   False   \n",
       "3579        53233         0.156250      0.495413                   False   \n",
       "\n",
       "       contains_exclamation_mark     VADER  has_full_cap_word  full_cap_count  \\\n",
       "3382                       False  0.507467              False        0.496823   \n",
       "5646                       False  0.499709               True        0.531282   \n",
       "20156                      False  0.499709              False        0.496823   \n",
       "17                         False  0.503264              False        0.496823   \n",
       "3579                       False  0.499709               True        0.499287   \n",
       "\n",
       "       trending  \n",
       "3382       True  \n",
       "5646      False  \n",
       "20156     False  \n",
       "17         True  \n",
       "3579      False  "
      ]
     },
     "execution_count": 344,
     "metadata": {},
     "output_type": "execute_result"
    }
   ],
   "source": [
    "train.head()"
   ]
  },
  {
   "cell_type": "code",
   "execution_count": 345,
   "metadata": {
    "colab": {
     "base_uri": "https://localhost:8080/",
     "height": 215
    },
    "id": "mTFMdkZIY-rU",
    "outputId": "e55aae5f-0bd9-4cdd-9db5-f8c39cb03d8f"
   },
   "outputs": [
    {
     "data": {
      "text/html": [
       "<div>\n",
       "<style scoped>\n",
       "    .dataframe tbody tr th:only-of-type {\n",
       "        vertical-align: middle;\n",
       "    }\n",
       "\n",
       "    .dataframe tbody tr th {\n",
       "        vertical-align: top;\n",
       "    }\n",
       "\n",
       "    .dataframe thead th {\n",
       "        text-align: right;\n",
       "    }\n",
       "</style>\n",
       "<table border=\"1\" class=\"dataframe\">\n",
       "  <thead>\n",
       "    <tr style=\"text-align: right;\">\n",
       "      <th></th>\n",
       "      <th>view_count</th>\n",
       "      <th>percent_capital</th>\n",
       "      <th>title_length</th>\n",
       "      <th>contains_question_mark</th>\n",
       "      <th>contains_exclamation_mark</th>\n",
       "      <th>VADER</th>\n",
       "      <th>has_full_cap_word</th>\n",
       "      <th>full_cap_count</th>\n",
       "      <th>trending</th>\n",
       "    </tr>\n",
       "  </thead>\n",
       "  <tbody>\n",
       "    <tr>\n",
       "      <td>15</td>\n",
       "      <td>644</td>\n",
       "      <td>0.666667</td>\n",
       "      <td>0.488374</td>\n",
       "      <td>False</td>\n",
       "      <td>False</td>\n",
       "      <td>0.499709</td>\n",
       "      <td>True</td>\n",
       "      <td>0.499287</td>\n",
       "      <td>False</td>\n",
       "    </tr>\n",
       "    <tr>\n",
       "      <td>9049</td>\n",
       "      <td>10350981</td>\n",
       "      <td>0.147059</td>\n",
       "      <td>0.504155</td>\n",
       "      <td>False</td>\n",
       "      <td>False</td>\n",
       "      <td>0.492503</td>\n",
       "      <td>False</td>\n",
       "      <td>0.496823</td>\n",
       "      <td>True</td>\n",
       "    </tr>\n",
       "    <tr>\n",
       "      <td>13128</td>\n",
       "      <td>2920</td>\n",
       "      <td>0.142857</td>\n",
       "      <td>0.496142</td>\n",
       "      <td>False</td>\n",
       "      <td>False</td>\n",
       "      <td>0.499709</td>\n",
       "      <td>False</td>\n",
       "      <td>0.496823</td>\n",
       "      <td>False</td>\n",
       "    </tr>\n",
       "    <tr>\n",
       "      <td>11320</td>\n",
       "      <td>145849</td>\n",
       "      <td>0.571429</td>\n",
       "      <td>0.504640</td>\n",
       "      <td>False</td>\n",
       "      <td>True</td>\n",
       "      <td>0.499709</td>\n",
       "      <td>True</td>\n",
       "      <td>0.526370</td>\n",
       "      <td>False</td>\n",
       "    </tr>\n",
       "    <tr>\n",
       "      <td>16909</td>\n",
       "      <td>3512189</td>\n",
       "      <td>0.133333</td>\n",
       "      <td>0.498570</td>\n",
       "      <td>False</td>\n",
       "      <td>False</td>\n",
       "      <td>0.499709</td>\n",
       "      <td>False</td>\n",
       "      <td>0.496823</td>\n",
       "      <td>True</td>\n",
       "    </tr>\n",
       "  </tbody>\n",
       "</table>\n",
       "</div>"
      ],
      "text/plain": [
       "       view_count  percent_capital  title_length  contains_question_mark  \\\n",
       "15            644         0.666667      0.488374                   False   \n",
       "9049     10350981         0.147059      0.504155                   False   \n",
       "13128        2920         0.142857      0.496142                   False   \n",
       "11320      145849         0.571429      0.504640                   False   \n",
       "16909     3512189         0.133333      0.498570                   False   \n",
       "\n",
       "       contains_exclamation_mark     VADER  has_full_cap_word  full_cap_count  \\\n",
       "15                         False  0.499709               True        0.499287   \n",
       "9049                       False  0.492503              False        0.496823   \n",
       "13128                      False  0.499709              False        0.496823   \n",
       "11320                       True  0.499709               True        0.526370   \n",
       "16909                      False  0.499709              False        0.496823   \n",
       "\n",
       "       trending  \n",
       "15        False  \n",
       "9049       True  \n",
       "13128     False  \n",
       "11320     False  \n",
       "16909      True  "
      ]
     },
     "execution_count": 345,
     "metadata": {},
     "output_type": "execute_result"
    }
   ],
   "source": [
    "test.head()"
   ]
  },
  {
   "cell_type": "code",
   "execution_count": 346,
   "metadata": {
    "id": "I9LzfkPJY_g0"
   },
   "outputs": [],
   "source": [
    "def df_to_dataset(dataframe, shuffle=True, batch_size=32):\n",
    "    dataframe = dataframe.copy()\n",
    "    labels = dataframe.pop('trending')\n",
    "    ds = tf.data.Dataset.from_tensor_slices((dict(dataframe), labels))\n",
    "    if shuffle:\n",
    "        #ds = ds.shuffle(buffer_size=len(dataframe))\n",
    "        ds = ds.batch(batch_size)\n",
    "    return ds"
   ]
  },
  {
   "cell_type": "code",
   "execution_count": 347,
   "metadata": {
    "id": "_0KWl330APuf"
   },
   "outputs": [],
   "source": [
    "batch_size = 32\n",
    "train_ds = df_to_dataset(train, batch_size=batch_size)\n",
    "test_ds = df_to_dataset(test, batch_size=batch_size)"
   ]
  },
  {
   "cell_type": "code",
   "execution_count": 348,
   "metadata": {
    "id": "8Wyl-uZUEZN2"
   },
   "outputs": [],
   "source": [
    "feature_columns = []\n",
    "for header in ['percent_capital', 'title_length', 'contains_exclamation_mark', 'contains_question_mark', 'has_full_cap_word']:\n",
    "    feature_columns.append(tf.feature_column.numeric_column(header))\n",
    "feature_layer = tf.keras.layers.DenseFeatures(feature_columns)"
   ]
  },
  {
   "cell_type": "code",
   "execution_count": 349,
   "metadata": {
    "id": "e0PKVRkZBOCm"
   },
   "outputs": [],
   "source": [
    "model = tf.keras.Sequential([\n",
    "  feature_layer,\n",
    "    tf.keras.layers.Dense(256, activation=tf.nn.relu),\n",
    "    tf.keras.layers.Dense(64, activation=tf.nn.relu),\n",
    "  tf.keras.layers.Dense(1, activation=tf.nn.sigmoid)\n",
    "])\n"
   ]
  },
  {
   "cell_type": "code",
   "execution_count": 350,
   "metadata": {
    "id": "EkqX2r4IFQ0B"
   },
   "outputs": [],
   "source": [
    "opt = keras.optimizers.Adam(lr=0.01)\n",
    "model.compile(optimizer = opt,loss='binary_crossentropy', metrics=['accuracy'])\n",
    "log_dir = \"logs/fit/\" + datetime.datetime.now().strftime(\"%Y%m%d-%H%M%S\")\n",
    "tensorboard_callback = tf.keras.callbacks.TensorBoard(log_dir=log_dir, histogram_freq=1)"
   ]
  },
  {
   "cell_type": "code",
   "execution_count": 351,
   "metadata": {},
   "outputs": [
    {
     "name": "stdout",
     "output_type": "stream",
     "text": [
      "Epoch 1/10\n",
      "WARNING:tensorflow:Layers in a Sequential model should only have a single input tensor, but we receive a <class 'dict'> input: {'view_count': <tf.Tensor 'ExpandDims_7:0' shape=(None, 1) dtype=int64>, 'percent_capital': <tf.Tensor 'ExpandDims_5:0' shape=(None, 1) dtype=float64>, 'title_length': <tf.Tensor 'ExpandDims_6:0' shape=(None, 1) dtype=float64>, 'contains_question_mark': <tf.Tensor 'ExpandDims_2:0' shape=(None, 1) dtype=bool>, 'contains_exclamation_mark': <tf.Tensor 'ExpandDims_1:0' shape=(None, 1) dtype=bool>, 'VADER': <tf.Tensor 'ExpandDims:0' shape=(None, 1) dtype=float64>, 'has_full_cap_word': <tf.Tensor 'ExpandDims_4:0' shape=(None, 1) dtype=bool>, 'full_cap_count': <tf.Tensor 'ExpandDims_3:0' shape=(None, 1) dtype=float64>}\n",
      "Consider rewriting this model with the Functional API.\n",
      "WARNING:tensorflow:Layers in a Sequential model should only have a single input tensor, but we receive a <class 'dict'> input: {'view_count': <tf.Tensor 'ExpandDims_7:0' shape=(None, 1) dtype=int64>, 'percent_capital': <tf.Tensor 'ExpandDims_5:0' shape=(None, 1) dtype=float64>, 'title_length': <tf.Tensor 'ExpandDims_6:0' shape=(None, 1) dtype=float64>, 'contains_question_mark': <tf.Tensor 'ExpandDims_2:0' shape=(None, 1) dtype=bool>, 'contains_exclamation_mark': <tf.Tensor 'ExpandDims_1:0' shape=(None, 1) dtype=bool>, 'VADER': <tf.Tensor 'ExpandDims:0' shape=(None, 1) dtype=float64>, 'has_full_cap_word': <tf.Tensor 'ExpandDims_4:0' shape=(None, 1) dtype=bool>, 'full_cap_count': <tf.Tensor 'ExpandDims_3:0' shape=(None, 1) dtype=float64>}\n",
      "Consider rewriting this model with the Functional API.\n",
      "525/525 [==============================] - 2s 3ms/step - loss: 0.6637 - accuracy: 0.6242\n",
      "Epoch 2/10\n",
      "525/525 [==============================] - 1s 1ms/step - loss: 0.6411 - accuracy: 0.6536\n",
      "Epoch 3/10\n",
      "525/525 [==============================] - 1s 1ms/step - loss: 0.6261 - accuracy: 0.6620\n",
      "Epoch 4/10\n",
      "525/525 [==============================] - 1s 1ms/step - loss: 0.6228 - accuracy: 0.6637\n",
      "Epoch 5/10\n",
      "525/525 [==============================] - 1s 1ms/step - loss: 0.6206 - accuracy: 0.6643\n",
      "Epoch 6/10\n",
      "525/525 [==============================] - 1s 1ms/step - loss: 0.6191 - accuracy: 0.6649\n",
      "Epoch 7/10\n",
      "525/525 [==============================] - 1s 1ms/step - loss: 0.6184 - accuracy: 0.6664\n",
      "Epoch 8/10\n",
      "525/525 [==============================] - 1s 1ms/step - loss: 0.6180 - accuracy: 0.6655\n",
      "Epoch 9/10\n",
      "525/525 [==============================] - 1s 1ms/step - loss: 0.6181 - accuracy: 0.6657\n",
      "Epoch 10/10\n",
      "525/525 [==============================] - 1s 1ms/step - loss: 0.6176 - accuracy: 0.6665\n"
     ]
    },
    {
     "data": {
      "text/plain": [
       "<tensorflow.python.keras.callbacks.History at 0x27e88510148>"
      ]
     },
     "execution_count": 351,
     "metadata": {},
     "output_type": "execute_result"
    }
   ],
   "source": [
    "model.fit(train_ds, epochs = 10, callbacks=[tensorboard_callback])"
   ]
  },
  {
   "cell_type": "code",
   "execution_count": 352,
   "metadata": {
    "colab": {
     "base_uri": "https://localhost:8080/"
    },
    "id": "9impv-FuGrrF",
    "outputId": "9d288457-87bb-4189-e541-a21a7953b8d7"
   },
   "outputs": [
    {
     "name": "stdout",
     "output_type": "stream",
     "text": [
      "WARNING:tensorflow:Layers in a Sequential model should only have a single input tensor, but we receive a <class 'dict'> input: {'view_count': <tf.Tensor 'ExpandDims_7:0' shape=(None, 1) dtype=int64>, 'percent_capital': <tf.Tensor 'ExpandDims_5:0' shape=(None, 1) dtype=float64>, 'title_length': <tf.Tensor 'ExpandDims_6:0' shape=(None, 1) dtype=float64>, 'contains_question_mark': <tf.Tensor 'ExpandDims_2:0' shape=(None, 1) dtype=bool>, 'contains_exclamation_mark': <tf.Tensor 'ExpandDims_1:0' shape=(None, 1) dtype=bool>, 'VADER': <tf.Tensor 'ExpandDims:0' shape=(None, 1) dtype=float64>, 'has_full_cap_word': <tf.Tensor 'ExpandDims_4:0' shape=(None, 1) dtype=bool>, 'full_cap_count': <tf.Tensor 'ExpandDims_3:0' shape=(None, 1) dtype=float64>}\n",
      "Consider rewriting this model with the Functional API.\n",
      "132/132 [==============================] - 0s 1ms/step - loss: 0.6031 - accuracy: 0.6780\n"
     ]
    },
    {
     "data": {
      "text/plain": [
       "[0.6031421422958374, 0.6780348420143127]"
      ]
     },
     "execution_count": 352,
     "metadata": {},
     "output_type": "execute_result"
    }
   ],
   "source": [
    "model.evaluate(test_ds)"
   ]
  },
  {
   "cell_type": "code",
   "execution_count": 353,
   "metadata": {
    "colab": {
     "base_uri": "https://localhost:8080/"
    },
    "id": "4xdJPD05OcVV",
    "outputId": "de7862af-b357-4895-b461-c452a819f5ab"
   },
   "outputs": [
    {
     "name": "stdout",
     "output_type": "stream",
     "text": [
      "WARNING:tensorflow:Layers in a Sequential model should only have a single input tensor, but we receive a <class 'dict'> input: {'view_count': <tf.Tensor 'ExpandDims_7:0' shape=(None, 1) dtype=int64>, 'percent_capital': <tf.Tensor 'ExpandDims_5:0' shape=(None, 1) dtype=float64>, 'title_length': <tf.Tensor 'ExpandDims_6:0' shape=(None, 1) dtype=float64>, 'contains_question_mark': <tf.Tensor 'ExpandDims_2:0' shape=(None, 1) dtype=bool>, 'contains_exclamation_mark': <tf.Tensor 'ExpandDims_1:0' shape=(None, 1) dtype=bool>, 'VADER': <tf.Tensor 'ExpandDims:0' shape=(None, 1) dtype=float64>, 'has_full_cap_word': <tf.Tensor 'ExpandDims_4:0' shape=(None, 1) dtype=bool>, 'full_cap_count': <tf.Tensor 'ExpandDims_3:0' shape=(None, 1) dtype=float64>}\n",
      "Consider rewriting this model with the Functional API.\n"
     ]
    }
   ],
   "source": [
    "ynew = model.predict(test_ds)"
   ]
  },
  {
   "cell_type": "code",
   "execution_count": 354,
   "metadata": {},
   "outputs": [
    {
     "data": {
      "text/plain": [
       "array([[0.3701902 ],\n",
       "       [0.78803766],\n",
       "       [0.7869374 ],\n",
       "       ...,\n",
       "       [0.3825125 ],\n",
       "       [0.3831899 ],\n",
       "       [0.33053738]], dtype=float32)"
      ]
     },
     "execution_count": 354,
     "metadata": {},
     "output_type": "execute_result"
    }
   ],
   "source": [
    "ynew"
   ]
  },
  {
   "cell_type": "code",
   "execution_count": 355,
   "metadata": {
    "colab": {
     "base_uri": "https://localhost:8080/"
    },
    "id": "UoxDiFTpa4PP",
    "outputId": "919a36a8-86d8-4cd7-dc21-b172645785a6"
   },
   "outputs": [],
   "source": [
    "ynew = np.where(ynew<.5,0,1)"
   ]
  },
  {
   "cell_type": "code",
   "execution_count": 356,
   "metadata": {},
   "outputs": [
    {
     "data": {
      "text/plain": [
       "array([[0],\n",
       "       [1],\n",
       "       [1],\n",
       "       ...,\n",
       "       [0],\n",
       "       [0],\n",
       "       [0]])"
      ]
     },
     "execution_count": 356,
     "metadata": {},
     "output_type": "execute_result"
    }
   ],
   "source": [
    "ynew"
   ]
  },
  {
   "cell_type": "code",
   "execution_count": 359,
   "metadata": {
    "id": "CdzaSccP9a7w"
   },
   "outputs": [
    {
     "data": {
      "text/plain": [
       "(1699, 397, 953, 1144)"
      ]
     },
     "execution_count": 359,
     "metadata": {},
     "output_type": "execute_result"
    }
   ],
   "source": [
    "from sklearn.metrics import confusion_matrix\n",
    "from sklearn.metrics import classification_report\n",
    "true_test = np.concatenate([y for x, y in test_ds], axis=0)\n",
    "tn, fp, fn, tp = confusion_matrix(true_test, ynew).ravel()\n",
    "(tn, fp, fn, tp)"
   ]
  },
  {
   "cell_type": "code",
   "execution_count": 358,
   "metadata": {},
   "outputs": [
    {
     "data": {
      "text/html": [
       "\n",
       "      <iframe id=\"tensorboard-frame-cb09a73b552bcb32\" width=\"100%\" height=\"800\" frameborder=\"0\">\n",
       "      </iframe>\n",
       "      <script>\n",
       "        (function() {\n",
       "          const frame = document.getElementById(\"tensorboard-frame-cb09a73b552bcb32\");\n",
       "          const url = new URL(\"/\", window.location);\n",
       "          const port = 6006;\n",
       "          if (port) {\n",
       "            url.port = port;\n",
       "          }\n",
       "          frame.src = url;\n",
       "        })();\n",
       "      </script>\n",
       "    "
      ],
      "text/plain": [
       "<IPython.core.display.HTML object>"
      ]
     },
     "metadata": {},
     "output_type": "display_data"
    }
   ],
   "source": [
    "%tensorboard --logdir logs/fit"
   ]
  },
  {
   "cell_type": "code",
   "execution_count": 362,
   "metadata": {},
   "outputs": [
    {
     "name": "stdout",
     "output_type": "stream",
     "text": [
      "              precision    recall  f1-score   support\n",
      "\n",
      "       False       0.64      0.81      0.72      2096\n",
      "        True       0.74      0.55      0.63      2097\n",
      "\n",
      "    accuracy                           0.68      4193\n",
      "   macro avg       0.69      0.68      0.67      4193\n",
      "weighted avg       0.69      0.68      0.67      4193\n",
      "\n"
     ]
    }
   ],
   "source": [
    "print(classification_report(true_test, ynew))"
   ]
  },
  {
   "cell_type": "code",
   "execution_count": null,
   "metadata": {},
   "outputs": [],
   "source": []
  }
 ],
 "metadata": {
  "colab": {
   "collapsed_sections": [],
   "name": "final_proj_422.ipynb",
   "provenance": []
  },
  "kernelspec": {
   "display_name": "Python 3",
   "language": "python",
   "name": "python3"
  },
  "language_info": {
   "codemirror_mode": {
    "name": "ipython",
    "version": 3
   },
   "file_extension": ".py",
   "mimetype": "text/x-python",
   "name": "python",
   "nbconvert_exporter": "python",
   "pygments_lexer": "ipython3",
   "version": "3.7.4"
  }
 },
 "nbformat": 4,
 "nbformat_minor": 1
}
