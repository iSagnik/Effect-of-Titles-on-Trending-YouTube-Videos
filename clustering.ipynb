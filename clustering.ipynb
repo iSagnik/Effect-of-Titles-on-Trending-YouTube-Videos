{
 "metadata": {
  "language_info": {
   "codemirror_mode": {
    "name": "ipython",
    "version": 3
   },
   "file_extension": ".py",
   "mimetype": "text/x-python",
   "name": "python",
   "nbconvert_exporter": "python",
   "pygments_lexer": "ipython3",
   "version": "3.9.2"
  },
  "orig_nbformat": 2,
  "kernelspec": {
   "name": "python392jvsc74a57bd0c569cd2e17f62341e0f08a54f9a867c3c0d3a6f67454072d7de41a8b5dff8343",
   "display_name": "Python 3.9.2 64-bit"
  }
 },
 "nbformat": 4,
 "nbformat_minor": 2,
 "cells": [
  {
   "cell_type": "code",
   "execution_count": 2,
   "metadata": {},
   "outputs": [
    {
     "output_type": "execute_result",
     "data": {
      "text/plain": [
       "                                               title  percent_capital  \\\n",
       "0  Dana White recaps Colby Covington’s win, Khamz...         0.208333   \n",
       "1               BANDA MS - LA CASITA (VIDEO OFICIAL)         0.750000   \n",
       "2  Blac Youngsta - I Met Tay Keith First (Officia...         0.160920   \n",
       "3  Farol Ltd | New 2020 John Deere 8RX 410 Road T...         0.173913   \n",
       "4  WHAT HAPPENED at UFC 257?! Conor McGregor vs D...         0.269663   \n",
       "\n",
       "   title_length  contains_question_mark  contains_exclamation_mark     VADER  \\\n",
       "0      0.505124                   False                      False  0.508916   \n",
       "1      0.496383                   False                      False  0.499711   \n",
       "2      0.508765                   False                      False  0.499711   \n",
       "3      0.505173                   False                      False  0.499362   \n",
       "4      0.509251                    True                       True  0.492816   \n",
       "\n",
       "   has_full_cap_word  full_cap_count  trending  \n",
       "0               True        0.504214      True  \n",
       "1               True        0.511603      True  \n",
       "2               True        0.499286      True  \n",
       "3               True        0.498229     False  \n",
       "4               True        0.504214      True  "
      ],
      "text/html": "<div>\n<style scoped>\n    .dataframe tbody tr th:only-of-type {\n        vertical-align: middle;\n    }\n\n    .dataframe tbody tr th {\n        vertical-align: top;\n    }\n\n    .dataframe thead th {\n        text-align: right;\n    }\n</style>\n<table border=\"1\" class=\"dataframe\">\n  <thead>\n    <tr style=\"text-align: right;\">\n      <th></th>\n      <th>title</th>\n      <th>percent_capital</th>\n      <th>title_length</th>\n      <th>contains_question_mark</th>\n      <th>contains_exclamation_mark</th>\n      <th>VADER</th>\n      <th>has_full_cap_word</th>\n      <th>full_cap_count</th>\n      <th>trending</th>\n    </tr>\n  </thead>\n  <tbody>\n    <tr>\n      <th>0</th>\n      <td>Dana White recaps Colby Covington’s win, Khamz...</td>\n      <td>0.208333</td>\n      <td>0.505124</td>\n      <td>False</td>\n      <td>False</td>\n      <td>0.508916</td>\n      <td>True</td>\n      <td>0.504214</td>\n      <td>True</td>\n    </tr>\n    <tr>\n      <th>1</th>\n      <td>BANDA MS - LA CASITA (VIDEO OFICIAL)</td>\n      <td>0.750000</td>\n      <td>0.496383</td>\n      <td>False</td>\n      <td>False</td>\n      <td>0.499711</td>\n      <td>True</td>\n      <td>0.511603</td>\n      <td>True</td>\n    </tr>\n    <tr>\n      <th>2</th>\n      <td>Blac Youngsta - I Met Tay Keith First (Officia...</td>\n      <td>0.160920</td>\n      <td>0.508765</td>\n      <td>False</td>\n      <td>False</td>\n      <td>0.499711</td>\n      <td>True</td>\n      <td>0.499286</td>\n      <td>True</td>\n    </tr>\n    <tr>\n      <th>3</th>\n      <td>Farol Ltd | New 2020 John Deere 8RX 410 Road T...</td>\n      <td>0.173913</td>\n      <td>0.505173</td>\n      <td>False</td>\n      <td>False</td>\n      <td>0.499362</td>\n      <td>True</td>\n      <td>0.498229</td>\n      <td>False</td>\n    </tr>\n    <tr>\n      <th>4</th>\n      <td>WHAT HAPPENED at UFC 257?! Conor McGregor vs D...</td>\n      <td>0.269663</td>\n      <td>0.509251</td>\n      <td>True</td>\n      <td>True</td>\n      <td>0.492816</td>\n      <td>True</td>\n      <td>0.504214</td>\n      <td>True</td>\n    </tr>\n  </tbody>\n</table>\n</div>"
     },
     "metadata": {},
     "execution_count": 2
    }
   ],
   "source": [
    "import pandas as pd\n",
    "\n",
    "data = pd.read_csv(\"data/final_video_data.csv\")\n",
    "data.head()\n"
   ]
  }
 ]
}